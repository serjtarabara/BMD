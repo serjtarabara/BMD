{
 "cells": [
  {
   "cell_type": "markdown",
   "metadata": {},
   "source": [
    "<h1>Парний t-критерій Стьюдента</h1>"
   ]
  },
  {
   "cell_type": "markdown",
   "metadata": {},
   "source": [
    "Обрати реальні дані з kaggle або сгенерувати випадкові дані. Дані мають відповідати вимогам викладеним вище. Формат даних:\n",
    "\n",
    "| Група 1 | Група 2  | \n",
    "| ------------- |--------- |\n",
    "| $k_{1}  $   | $k_{2}$   |\n",
    "| $...$   | $...$   |\n",
    "| $k_{1n}$   | $k_{2n}$   |\n",
    "\n",
    "Побудувати графік, що відображає розкид даних в групах. Приклад:\n",
    "![alt text](https://s3.amazonaws.com/libapps/accounts/2515/images/spss_paired-t_example_boxplot.PNG)\n",
    "\n",
    "Написати функції:\n",
    "* для оцінки зв'язку між групами за коефіцієнтом кореляції Пірсона. Функція має повертати значення коефіцієнту кореляції, значення ступеня свободи та результат оцінки значимості зв'зку (significant або not significant).\n",
    "\n",
    "* для визначення відмінності між групами за критерієм Стьюдента. Функція має повертати значення критерію Стьюдента,значення ступеня свободи та результат оцінки значимості зв'зку (significant або not significant).\n",
    "\n",
    "Перевірити розбіжність на між групами на даних з п. 1.\n",
    "\n",
    "Сформувати висновок про взаємозв'язок між групами та про їх розбіжність."
   ]
  },
  {
   "cell_type": "code",
   "execution_count": 45,
   "metadata": {
    "scrolled": false
   },
   "outputs": [
    {
     "data": {
      "text/html": [
       "<div>\n",
       "<style scoped>\n",
       "    .dataframe tbody tr th:only-of-type {\n",
       "        vertical-align: middle;\n",
       "    }\n",
       "\n",
       "    .dataframe tbody tr th {\n",
       "        vertical-align: top;\n",
       "    }\n",
       "\n",
       "    .dataframe thead th {\n",
       "        text-align: right;\n",
       "    }\n",
       "</style>\n",
       "<table border=\"1\" class=\"dataframe\">\n",
       "  <thead>\n",
       "    <tr style=\"text-align: right;\">\n",
       "      <th></th>\n",
       "      <th>Programming</th>\n",
       "      <th>English</th>\n",
       "    </tr>\n",
       "  </thead>\n",
       "  <tbody>\n",
       "    <tr>\n",
       "      <th>0</th>\n",
       "      <td>8.0</td>\n",
       "      <td>7.0</td>\n",
       "    </tr>\n",
       "    <tr>\n",
       "      <th>1</th>\n",
       "      <td>9.0</td>\n",
       "      <td>20.0</td>\n",
       "    </tr>\n",
       "    <tr>\n",
       "      <th>2</th>\n",
       "      <td>3.0</td>\n",
       "      <td>18.0</td>\n",
       "    </tr>\n",
       "    <tr>\n",
       "      <th>3</th>\n",
       "      <td>18.0</td>\n",
       "      <td>9.0</td>\n",
       "    </tr>\n",
       "    <tr>\n",
       "      <th>4</th>\n",
       "      <td>13.0</td>\n",
       "      <td>9.0</td>\n",
       "    </tr>\n",
       "    <tr>\n",
       "      <th>5</th>\n",
       "      <td>8.0</td>\n",
       "      <td>12.0</td>\n",
       "    </tr>\n",
       "    <tr>\n",
       "      <th>6</th>\n",
       "      <td>13.0</td>\n",
       "      <td>9.0</td>\n",
       "    </tr>\n",
       "    <tr>\n",
       "      <th>7</th>\n",
       "      <td>5.0</td>\n",
       "      <td>7.0</td>\n",
       "    </tr>\n",
       "    <tr>\n",
       "      <th>8</th>\n",
       "      <td>18.0</td>\n",
       "      <td>12.0</td>\n",
       "    </tr>\n",
       "    <tr>\n",
       "      <th>9</th>\n",
       "      <td>16.0</td>\n",
       "      <td>10.0</td>\n",
       "    </tr>\n",
       "    <tr>\n",
       "      <th>10</th>\n",
       "      <td>10.0</td>\n",
       "      <td>8.0</td>\n",
       "    </tr>\n",
       "    <tr>\n",
       "      <th>11</th>\n",
       "      <td>7.0</td>\n",
       "      <td>11.0</td>\n",
       "    </tr>\n",
       "    <tr>\n",
       "      <th>12</th>\n",
       "      <td>5.0</td>\n",
       "      <td>12.0</td>\n",
       "    </tr>\n",
       "    <tr>\n",
       "      <th>13</th>\n",
       "      <td>18.0</td>\n",
       "      <td>6.0</td>\n",
       "    </tr>\n",
       "    <tr>\n",
       "      <th>14</th>\n",
       "      <td>8.0</td>\n",
       "      <td>16.0</td>\n",
       "    </tr>\n",
       "    <tr>\n",
       "      <th>15</th>\n",
       "      <td>4.0</td>\n",
       "      <td>13.0</td>\n",
       "    </tr>\n",
       "    <tr>\n",
       "      <th>16</th>\n",
       "      <td>10.0</td>\n",
       "      <td>16.0</td>\n",
       "    </tr>\n",
       "    <tr>\n",
       "      <th>17</th>\n",
       "      <td>16.0</td>\n",
       "      <td>18.0</td>\n",
       "    </tr>\n",
       "    <tr>\n",
       "      <th>18</th>\n",
       "      <td>4.0</td>\n",
       "      <td>18.0</td>\n",
       "    </tr>\n",
       "    <tr>\n",
       "      <th>19</th>\n",
       "      <td>10.0</td>\n",
       "      <td>21.0</td>\n",
       "    </tr>\n",
       "  </tbody>\n",
       "</table>\n",
       "</div>"
      ],
      "text/plain": [
       "    Programming  English\n",
       "0           8.0      7.0\n",
       "1           9.0     20.0\n",
       "2           3.0     18.0\n",
       "3          18.0      9.0\n",
       "4          13.0      9.0\n",
       "5           8.0     12.0\n",
       "6          13.0      9.0\n",
       "7           5.0      7.0\n",
       "8          18.0     12.0\n",
       "9          16.0     10.0\n",
       "10         10.0      8.0\n",
       "11          7.0     11.0\n",
       "12          5.0     12.0\n",
       "13         18.0      6.0\n",
       "14          8.0     16.0\n",
       "15          4.0     13.0\n",
       "16         10.0     16.0\n",
       "17         16.0     18.0\n",
       "18          4.0     18.0\n",
       "19         10.0     21.0"
      ]
     },
     "execution_count": 45,
     "metadata": {},
     "output_type": "execute_result"
    }
   ],
   "source": [
    "import numpy as np\n",
    "import pandas as pd\n",
    "import seaborn as sns\n",
    "import scipy.stats as scipy\n",
    "import matplotlib.pyplot as plt\n",
    "\n",
    "random_nums1 = np.random.normal(loc=10, scale=5, size=20)\n",
    "random_1 = np.round(random_nums1)\n",
    "random_nums2 = np.random.normal(loc=10, scale=5, size=20)\n",
    "random_2 = np.round(random_nums2)\n",
    "\n",
    "df = pd.DataFrame({\n",
    "    'Programming': random_1,\n",
    "    'English': random_2\n",
    "    })\n",
    "\n",
    "df"
   ]
  },
  {
   "cell_type": "code",
   "execution_count": 46,
   "metadata": {
    "scrolled": true
   },
   "outputs": [
    {
     "data": {
      "text/plain": [
       "[Text(0.5, 0, 'Scores')]"
      ]
     },
     "execution_count": 46,
     "metadata": {},
     "output_type": "execute_result"
    },
    {
     "data": {
      "image/png": "[encoded data removed]",
      "text/plain": [
       "<Figure size 432x288 with 1 Axes>"
      ]
     },
     "metadata": {
      "needs_background": "light"
     },
     "output_type": "display_data"
    }
   ],
   "source": [
    "sns.boxplot(data=df, orient='h').set(xlabel='Scores')"
   ]
  },
  {
   "cell_type": "code",
   "execution_count": 65,
   "metadata": {},
   "outputs": [],
   "source": [
    "def Pirson(x, y):\n",
    "    n=len(x)\n",
    "    sum_all = 0\n",
    "    for i in range(len(x)):\n",
    "        sum_all += x[i] * y[i] \n",
    "    \n",
    "    sum_x=sum(x)\n",
    "    sum_y=sum(y)\n",
    "    sum_sum_x = sum_x**2\n",
    "    sum_sum_y = sum_y**2\n",
    "    sum_sq_x = 0\n",
    "    sum_sq_y = 0\n",
    "    for i in range(len(x)):\n",
    "        sum_sq_x += x[i] **2\n",
    "        sum_sq_y += y[i] **2\n",
    "        \n",
    "    r=((n*sum_all) - (sum_x*sum_y))/math.sqrt(((n*sum_sq_x) - sum_sum_x) * ((n*sum_sq_y) - sum_sum_y))\n",
    "    print(\"Коефіцієнт кореляції Пірсона: \", r)\n",
    "   \n",
    "    df = n-2\n",
    "    print(\"Число ступенів свободи: \", df)\n",
    "    \n",
    "    import xlrd, xlwt\n",
    "    rb = xlrd.open_workbook('Pirson_table.xlsx')\n",
    "    sheet = rb.sheet_by_index(0)\n",
    "    r_tabl = sheet.row_values(df)[1] \n",
    "    print(\"Критичне значення: \",r_tabl)\n",
    "    \n",
    "    if(r_tabl < r):\n",
    "        result = \"significant\"\n",
    "    else:\n",
    "        result = \"not significant\"\n",
    "    print(\"Результат оцінки значимості зв'язку:\", result)"
   ]
  },
  {
   "cell_type": "code",
   "execution_count": 66,
   "metadata": {},
   "outputs": [
    {
     "name": "stdout",
     "output_type": "stream",
     "text": [
      "Коефіцієнт кореляції Пірсона:  -0.2932674475294131\n",
      "Число ступенів свободи:  18\n",
      "Критичне значення:  0.4438\n",
      "Результат оцінки значимості зв'язку: not significant\n"
     ]
    }
   ],
   "source": [
    "Pirson(random_1, random_2)"
   ]
  },
  {
   "cell_type": "code",
   "execution_count": 67,
   "metadata": {},
   "outputs": [],
   "source": [
    "def Student(x, y):\n",
    "    d = []\n",
    "    n = len(x)\n",
    "    for i in range(n):\n",
    "        d.append(x[i] - y[i])\n",
    "    Mid = sum(d)/n \n",
    "    qd = np.std(d, ddof = 1)\n",
    "   \n",
    "    t = (Mid/qd)*math.sqrt(n)\n",
    "    print('')\n",
    "    print(\"Значення критерію Стюдента: \", t)\n",
    "    \n",
    "    df = n - 1\n",
    "    print(\"Значення ступенів свободи: \", df)\n",
    "    \n",
    "    import xlrd, xlwt\n",
    "    rb = xlrd.open_workbook('Student_table.xlsx')\n",
    "    sheet = rb.sheet_by_index(0)\n",
    "    t_t = sheet.row_values(df)[1] \n",
    "    print(\"Критичне значення: \",t_t)\n",
    "    \n",
    "    if(t_t < t):\n",
    "        result = \"significant\" \n",
    "    else:\n",
    "        result = \"not significant\" \n",
    "    print(\"Результат оцінки значимості зв'язку:\", result)"
   ]
  },
  {
   "cell_type": "code",
   "execution_count": 68,
   "metadata": {},
   "outputs": [
    {
     "name": "stdout",
     "output_type": "stream",
     "text": [
      "\n",
      "Значення критерію Стюдента:  -1.4102160065856557\n",
      "Значення ступенів свободи:  19\n",
      "Критичне значення:  2.093\n",
      "Результат оцінки значимості зв'язку: not significant\n"
     ]
    }
   ],
   "source": [
    "Student(random_1, random_2)"
   ]
  },
  {
   "cell_type": "markdown",
   "metadata": {},
   "source": [
    "1. За коефіцієнтом кореляції Пірсона робимо висновок, що статистично значимої залежності між групами не існує, так як коефіцієнт кореляції Пірсона дорівнює -0.2932674475294131."
   ]
  },
  {
   "cell_type": "markdown",
   "metadata": {},
   "source": [
    "2. Під час аналізу відмінності між групами за допомогою критерія t-Стьюдента, було прийнято нульову гіпотезу про рівність середніх, оскільки значення критерію менше за критичне."
   ]
  },
  {
   "cell_type": "code",
   "execution_count": null,
   "metadata": {},
   "outputs": [],
   "source": []
  }
 ],
 "metadata": {
  "kernelspec": {
   "display_name": "Python 3",
   "language": "python",
   "name": "python3"
  },
  "language_info": {
   "codemirror_mode": {
    "name": "ipython",
    "version": 3
   },
   "file_extension": ".py",
   "mimetype": "text/x-python",
   "name": "python",
   "nbconvert_exporter": "python",
   "pygments_lexer": "ipython3",
   "version": "3.7.6"
  }
 },
 "nbformat": 4,
 "nbformat_minor": 4
}
