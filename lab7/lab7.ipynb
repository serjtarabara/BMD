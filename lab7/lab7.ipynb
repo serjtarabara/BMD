{
 "cells": [
  {
   "cell_type": "markdown",
   "metadata": {},
   "source": [
    "<h1>Парний t-критерій Стьюдента для незалежних вибірок</h1>"
   ]
  },
  {
   "cell_type": "markdown",
   "metadata": {},
   "source": [
    "Тарабара Сергій БС-81, КП №7"
   ]
  },
  {
   "cell_type": "markdown",
   "metadata": {},
   "source": [
    "<strong>Виконання"
   ]
  },
  {
   "cell_type": "code",
   "execution_count": 1,
   "metadata": {},
   "outputs": [],
   "source": [
    "import numpy as np\n",
    "import pandas as pd\n",
    "import scipy.stats as ss\n",
    "import seaborn as sns\n",
    "import math\n",
    "import matplotlib.pyplot as plt\n",
    "from numpy.random import randint"
   ]
  },
  {
   "cell_type": "code",
   "execution_count": 37,
   "metadata": {},
   "outputs": [
    {
     "data": {
      "text/html": [
       "<div>\n",
       "<style scoped>\n",
       "    .dataframe tbody tr th:only-of-type {\n",
       "        vertical-align: middle;\n",
       "    }\n",
       "\n",
       "    .dataframe tbody tr th {\n",
       "        vertical-align: top;\n",
       "    }\n",
       "\n",
       "    .dataframe thead th {\n",
       "        text-align: right;\n",
       "    }\n",
       "</style>\n",
       "<table border=\"1\" class=\"dataframe\">\n",
       "  <thead>\n",
       "    <tr style=\"text-align: right;\">\n",
       "      <th>Результати</th>\n",
       "      <th>Група 1</th>\n",
       "      <th>Група 2</th>\n",
       "    </tr>\n",
       "    <tr>\n",
       "      <th>№ досліду</th>\n",
       "      <th></th>\n",
       "      <th></th>\n",
       "    </tr>\n",
       "  </thead>\n",
       "  <tbody>\n",
       "    <tr>\n",
       "      <th>1</th>\n",
       "      <td>19</td>\n",
       "      <td>18</td>\n",
       "    </tr>\n",
       "    <tr>\n",
       "      <th>2</th>\n",
       "      <td>3</td>\n",
       "      <td>21</td>\n",
       "    </tr>\n",
       "    <tr>\n",
       "      <th>3</th>\n",
       "      <td>1</td>\n",
       "      <td>4</td>\n",
       "    </tr>\n",
       "    <tr>\n",
       "      <th>4</th>\n",
       "      <td>25</td>\n",
       "      <td>5</td>\n",
       "    </tr>\n",
       "    <tr>\n",
       "      <th>5</th>\n",
       "      <td>5</td>\n",
       "      <td>12</td>\n",
       "    </tr>\n",
       "    <tr>\n",
       "      <th>6</th>\n",
       "      <td>10</td>\n",
       "      <td>21</td>\n",
       "    </tr>\n",
       "    <tr>\n",
       "      <th>7</th>\n",
       "      <td>24</td>\n",
       "      <td>19</td>\n",
       "    </tr>\n",
       "    <tr>\n",
       "      <th>8</th>\n",
       "      <td>27</td>\n",
       "      <td>10</td>\n",
       "    </tr>\n",
       "    <tr>\n",
       "      <th>9</th>\n",
       "      <td>17</td>\n",
       "      <td>8</td>\n",
       "    </tr>\n",
       "    <tr>\n",
       "      <th>10</th>\n",
       "      <td>20</td>\n",
       "      <td>1</td>\n",
       "    </tr>\n",
       "    <tr>\n",
       "      <th>11</th>\n",
       "      <td>26</td>\n",
       "      <td>21</td>\n",
       "    </tr>\n",
       "    <tr>\n",
       "      <th>12</th>\n",
       "      <td>23</td>\n",
       "      <td>26</td>\n",
       "    </tr>\n",
       "  </tbody>\n",
       "</table>\n",
       "</div>"
      ],
      "text/plain": [
       "Результати  Група 1  Група 2\n",
       "№ досліду                   \n",
       "1                19       18\n",
       "2                 3       21\n",
       "3                 1        4\n",
       "4                25        5\n",
       "5                 5       12\n",
       "6                10       21\n",
       "7                24       19\n",
       "8                27       10\n",
       "9                17        8\n",
       "10               20        1\n",
       "11               26       21\n",
       "12               23       26"
      ]
     },
     "execution_count": 37,
     "metadata": {},
     "output_type": "execute_result"
    }
   ],
   "source": [
    "col_1 = randint(0, 30, 12)\n",
    "col_2 = randint(0, 30, 12)\n",
    "df = pd.DataFrame({\"Група 1\": col_1, \"Група 2\": col_2,\n",
    "}, index=np.arange(1, len(col_1)+1))\n",
    "df.index.name = '№ досліду'\n",
    "df.columns.name = 'Результати'\n",
    "N = df.shape[0]\n",
    "df"
   ]
  },
  {
   "cell_type": "code",
   "execution_count": 38,
   "metadata": {},
   "outputs": [
    {
     "data": {
      "text/plain": [
       "[]"
      ]
     },
     "execution_count": 38,
     "metadata": {},
     "output_type": "execute_result"
    },
    {
     "data": {
      "image/png": "[encoded data removed]",
      "text/plain": [
       "<Figure size 432x288 with 1 Axes>"
      ]
     },
     "metadata": {
      "needs_background": "light"
     },
     "output_type": "display_data"
    }
   ],
   "source": [
    "sns.boxplot(data = df, orient = 'h').set()"
   ]
  },
  {
   "cell_type": "code",
   "execution_count": 52,
   "metadata": {},
   "outputs": [],
   "source": [
    "def Get_sigma(array,n):\n",
    "    s=0\n",
    "    mean=(sum(array))/n\n",
    "    for i in range (n):\n",
    "        s+=((array[i]-mean))**2\n",
    "    return s/(n-1)\n",
    "def Liven(x,y):\n",
    "    n=len(x)\n",
    "    m=len(y)\n",
    "    s1=sd(x,n)\n",
    "    s2=sd(y,m)\n",
    "    if s1>s2:\n",
    "        f=s1/s2\n",
    "    else:\n",
    "        f=s2/s1\n",
    "    print('Отримане значення критерію Лівеня: ' + str(f))\n",
    "    df1=n-1\n",
    "    df2=m-1\n",
    "    print('Значення ступенів свободи: df1 = ' + str(df1) + \"; df2 = \" + str(df2))\n",
    "    table = pd.read_excel(\"Liven_table.xlsx\").iloc[df1,df2]\n",
    "    print(\"Критичне значення критерію Лівеня: \" + str(table))\n",
    "    if f<table:\n",
    "        result = \"not significant\"\n",
    "    else:\n",
    "        result = \"significant\"\n",
    "    return result"
   ]
  },
  {
   "cell_type": "code",
   "execution_count": 53,
   "metadata": {},
   "outputs": [
    {
     "name": "stdout",
     "output_type": "stream",
     "text": [
      "Отримане значення критерію Лівеня: 1.3375508359692723\n",
      "Значення ступенів свободи: df1 = 11; df2 = 11\n",
      "Критичне значення критерію Лівеня: 2.72\n"
     ]
    },
    {
     "data": {
      "text/plain": [
       "'not significant'"
      ]
     },
     "execution_count": 53,
     "metadata": {},
     "output_type": "execute_result"
    }
   ],
   "source": [
    "Liven(col_1,col_2)"
   ]
  },
  {
   "cell_type": "code",
   "execution_count": 56,
   "metadata": {},
   "outputs": [],
   "source": [
    "def Student(x,y,flag):\n",
    "    if flag==\"significant\":\n",
    "        n=len(x)\n",
    "        m=len(y)\n",
    "        s1=sd(x,n)\n",
    "        s2=sd(y,m)\n",
    "        m1=sum(x)/n\n",
    "        m2=sum(y)/n\n",
    "        df=n+m-2\n",
    "        t=(abs(m1-m2))/(math.sqrt((s1/n)+(s2/m)))\n",
    "    elif flag==\"not significant\":\n",
    "        n=len(x)\n",
    "        m=len(y)\n",
    "        s1=sd(x,n)\n",
    "        s2=sd(y,m)\n",
    "        m1=sum(x)/n\n",
    "        m2=sum(y)/n\n",
    "        df1=n-1\n",
    "        df2=m-1\n",
    "        df=n+m-2\n",
    "        k=(1/n)+(1/m)\n",
    "        t=(abs(m1-m2))/(math.sqrt(((df1*s1+df2*s2)/df)*k))\n",
    "    else:\n",
    "        return \"You input the wrong flag\"\n",
    "    print('Критерій Стьюдента: ' + str(t))\n",
    "    print('Ступені свободи: ' + str(df))\n",
    "    table = pd.read_excel(\"Student_table.xlsx\").iloc[df-1,1]\n",
    "    print(\"Критичне значення критерію Стьюдента: \" + str(table))\n",
    "    if t<table:\n",
    "        result = \"significant\"\n",
    "    else:\n",
    "        result = \"not significant\"\n",
    "    return result"
   ]
  },
  {
   "cell_type": "code",
   "execution_count": 57,
   "metadata": {},
   "outputs": [
    {
     "name": "stdout",
     "output_type": "stream",
     "text": [
      "Критерій Стьюдента: 0.7839241156756381\n",
      "Ступені свободи: 22\n",
      "Критичне значення критерію Стьюдента: 2.074\n"
     ]
    },
    {
     "data": {
      "text/plain": [
       "'significant'"
      ]
     },
     "execution_count": 57,
     "metadata": {},
     "output_type": "execute_result"
    }
   ],
   "source": [
    "Student(col_1,col_2, \"not significant\")"
   ]
  },
  {
   "cell_type": "markdown",
   "metadata": {},
   "source": [
    "<strong>Висновок:</strong>\n",
    "За результатом перевірки даних на рівність дисперсії тестом Лівеня був отриманий результат F < F табличне, тому приймаємо нульову гіпотезу.\n",
    "В результаті перевірки відмінності між двома групами за допомогою критерію Стюдента для незалежних вибірок був отриманий результат t > t табличне. Отже, відхиляємо нульову гіпотезу та робимо висновок про статичну відмінність середніх."
   ]
  },
  {
   "cell_type": "code",
   "execution_count": null,
   "metadata": {},
   "outputs": [],
   "source": []
  }
 ],
 "metadata": {
  "kernelspec": {
   "display_name": "Python 3",
   "language": "python",
   "name": "python3"
  },
  "language_info": {
   "codemirror_mode": {
    "name": "ipython",
    "version": 3
   },
   "file_extension": ".py",
   "mimetype": "text/x-python",
   "name": "python",
   "nbconvert_exporter": "python",
   "pygments_lexer": "ipython3",
   "version": "3.7.6"
  }
 },
 "nbformat": 4,
 "nbformat_minor": 4
}
